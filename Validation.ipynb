{
  "cells": [
    {
      "cell_type": "code",
      "execution_count": null,
      "metadata": {
        "id": "T7NVPGwXsbJK"
      },
      "outputs": [],
      "source": [
        "import torch\n",
        "import torch.nn as nn\n",
        "from torch.utils.data import Dataset, DataLoader, random_split, Subset\n",
        "import torch.optim as optim\n",
        "from sklearn.model_selection import KFold\n",
        "import numpy as np\n",
        "import itertools\n",
        "import os\n",
        "import pickle\n",
        "\n",
        "replications = 50\n",
        "device = 'cuda' if torch.cuda.is_available() else 'cpu'\n",
        "\n",
        "np.random.seed(123)\n",
        "torch.manual_seed(123)\n",
        "torch.cuda.manual_seed(123)\n"
      ]
    },
    {
      "cell_type": "code",
      "execution_count": null,
      "metadata": {
        "id": "z52HBsvusfRO"
      },
      "outputs": [],
      "source": [
        "class Net(nn.Module):\n",
        "  def __init__(self, num_layers, input_size, hidden_size, output_size):\n",
        "    super(Net, self).__init__()\n",
        "    self.hidden_layers = nn.ModuleList([nn.Linear(input_size, hidden_size)])\n",
        "    self.hidden_layers.extend([nn.Linear(hidden_size, hidden_size) for _ in range(num_layers - 2)])\n",
        "    self.output_layer = nn.Linear(hidden_size, output_size)\n",
        "    self.activation = nn.ReLU()\n",
        "\n",
        "  def forward(self, x):\n",
        "    for layer in self.hidden_layers:\n",
        "      x = self.activation(layer(x))\n",
        "    x = self.output_layer(x)\n",
        "    return x\n",
        "\n",
        "def make_training_fn(model, loss_fn, optimizer):\n",
        "  def training_step(x, y):\n",
        "    model.train()\n",
        "\n",
        "    yhat = model(x)\n",
        "    loss = loss_fn(yhat, y)\n",
        "    loss.backward()\n",
        "    optimizer.step()\n",
        "    optimizer.zero_grad()\n",
        "    return loss.item()\n",
        "  return training_step\n",
        "\n",
        "def make_val_fn(model, loss_fn):\n",
        "  def val_step(x, y):\n",
        "    model.eval()\n",
        "\n",
        "    with torch.no_grad():\n",
        "      yhat = model(x)\n",
        "      loss = loss_fn(yhat, y)\n",
        "    return loss.item()\n",
        "  return val_step\n",
        "\n",
        "def mini_batch_loop(device, data_loader, step_fn):\n",
        "  mini_batch_losses = []\n",
        "  for x, y in data_loader:\n",
        "    x_batch = x.to(device)\n",
        "    y_batch = y.unsqueeze(-1).to(device)\n",
        "    mini_batch_losses.append(step_fn(x_batch, y_batch))\n",
        "  return np.mean(mini_batch_losses)\n",
        "\n",
        "def cross_validation(train_data, num_layers, input_size, hidden_size, output_size, weight_decay, rep_seed, K=10, repeats=1, epochs=10):\n",
        "  repeatCV = []\n",
        "  for r in range(repeats):\n",
        "    # Split data into folds\n",
        "    folds = KFold(n_splits=K, shuffle=True, random_state=rep_seed)\n",
        "    val_losses = []\n",
        "    for fold, (train_idx, val_idx) in enumerate(folds.split(train_data)):\n",
        "      train_subset = Subset(train_data, train_idx)\n",
        "      val_subset = Subset(train_data, val_idx)\n",
        "\n",
        "      train_loader = DataLoader(train_subset, batch_size=64, shuffle=True)\n",
        "      val_loader = DataLoader(val_subset, batch_size=64, shuffle=True)\n",
        "\n",
        "      # Instantiate model\n",
        "      model = Net(num_layers, input_size, hidden_size, output_size).to(device)\n",
        "\n",
        "      # Instantiate optimizer\n",
        "      optimizer = optim.Adam(model.parameters(), weight_decay=weight_decay)\n",
        "      loss_fn = nn.MSELoss()\n",
        "\n",
        "      # Instantiate training and validation functions\n",
        "      train_step_fn = make_training_fn(model, loss_fn, optimizer)\n",
        "      val_step_fn = make_val_fn(model, loss_fn)\n",
        "\n",
        "      for epoch in range(epochs):\n",
        "        mini_batch_loop(device, train_loader, train_step_fn)\n",
        "      # Evaluate at the end of the epochs\n",
        "      val_losses.append(mini_batch_loop(device, val_loader, val_step_fn))\n",
        "    repeatCV.append(np.mean(val_losses))\n",
        "  return np.mean(repeatCV)\n",
        "\n",
        "def data_splitting(train_data, num_layers, input_size, hidden_size, output_size, weight_decay, rep_seed, epochs=10):\n",
        "  train_data, val_data = random_split(train_data, [0.8, 0.2], generator=torch.Generator().manual_seed(rep_seed))\n",
        "  train_loader = DataLoader(train_data, batch_size=128, shuffle=True)\n",
        "  val_loader = DataLoader(val_data, batch_size=128, shuffle=True)\n",
        "  # Instantiate model\n",
        "  model = Net(num_layers, input_size, hidden_size, output_size).to(device)\n",
        "  # Instantiate optimizer\n",
        "  optimizer = optim.Adam(model.parameters(), weight_decay=weight_decay)\n",
        "  loss_fn = nn.MSELoss()\n",
        "\n",
        "  # Instantiate training and validation functions\n",
        "  train_step_fn = make_training_fn(model, loss_fn, optimizer)\n",
        "  val_step_fn = make_val_fn(model, loss_fn)\n",
        "\n",
        "  for epoch in range(epochs):\n",
        "    mini_batch_loop(device, train_loader, train_step_fn)\n",
        "\n",
        "  # Evaluate at the end of the epochs\n",
        "  val_loss = mini_batch_loop(device, val_loader, val_step_fn)\n",
        "  return val_loss"
      ]
    },
    {
      "cell_type": "code",
      "execution_count": null,
      "metadata": {
        "id": "XnOSUytnvoy4"
      },
      "outputs": [],
      "source": [
        "Sigma = np.eye(10)\n",
        "Sigma[2, 3] = Sigma[3, 2] = 0.5\n",
        "Sigma[4, 5] = Sigma[5, 4] = -0.5\n",
        "Sigma[6, 7] = Sigma[7, 6] = 0.2\n",
        "Sigma[8, 9] = Sigma[9, 8] = 0.9\n",
        "mu = np.random.rand(10)\n",
        "\n",
        "def generate_data(n, Sigma, mu):\n",
        "  X = np.random.multivariate_normal(mu, Sigma, n)\n",
        "  eps = np.random.normal(0, 5, n)\n",
        "\n",
        "  y = 0.5*X[:, 0] + 0.75*X[:, 1]**2 - 0.3*np.sin(X[:, 2]) - 0.5*np.abs(X[:, 3])**(1/2)*X[:, 1] + X[:, 4]*np.exp(X[:, 5]) + 1.0*X[:, 6]*np.cos(X[:, 7]) + -0.25*X[:, 8]*X[:, 9]**4 + eps\n",
        "  return X, y\n",
        "\n",
        "class DataFrameDataset(Dataset):\n",
        "  def __init__(self, X_tensor, y_tensor):\n",
        "    self.X = X_tensor\n",
        "    self.y = y_tensor\n",
        "\n",
        "  def __getitem__(self, index):\n",
        "    return (self.X[index], self.y[index])\n",
        "\n",
        "  def __len__(self):\n",
        "    return len(self.X)\n"
      ]
    },
    {
      "cell_type": "code",
      "execution_count": null,
      "metadata": {
        "id": "rHcZBX6Rj0PM"
      },
      "outputs": [],
      "source": [
        "num_layers = [4, 5, 6, 7]\n",
        "hidden_size = [10, 20, 30]\n",
        "weight_decay = [0.001, 0.01, 0.1]\n",
        "\n",
        "hyperparameter_combos = itertools.product(num_layers, hidden_size, weight_decay)"
      ]
    },
    {
      "cell_type": "code",
      "execution_count": null,
      "metadata": {
        "id": "s0fSDtg3llyp"
      },
      "outputs": [],
      "source": [
        "X_train, y_train = generate_data(10000, Sigma, mu)\n",
        "X_test, y_test = generate_data(1000000, Sigma, mu)\n",
        "train_data = DataFrameDataset(torch.as_tensor(X_train).float(), torch.as_tensor(y_train).float())\n",
        "test_data = DataFrameDataset(torch.as_tensor(X_test).float(), torch.as_tensor(y_test).float())\n",
        "\n",
        "train_data_loader = DataLoader(train_data, batch_size=128, shuffle=True)\n",
        "test_data_loader = DataLoader(test_data, batch_size=256)\n",
        "\n",
        "input_size = train_data.X.shape[1]\n",
        "output_size = 1\n",
        "num_epochs = 25"
      ]
    },
    {
      "cell_type": "code",
      "execution_count": null,
      "metadata": {
        "id": "IhhokA3-mE9N",
        "colab": {
          "base_uri": "https://localhost:8080/"
        },
        "outputId": "cfb33fc8-6c89-4a8a-8253-51d689b457b4"
      },
      "outputs": [
        {
          "output_type": "stream",
          "name": "stdout",
          "text": [
            "33\n"
          ]
        }
      ],
      "source": [
        "result_file = './drive/MyDrive/chosen_files/true_result.pkl'\n",
        "if not os.path.exists(result_file):\n",
        "  val_losses = []\n",
        "  for nl, hs, wd in hyperparameter_combos:\n",
        "    # Instantiate model\n",
        "    model = Net(nl, input_size, hs, output_size).to(device)\n",
        "\n",
        "    # Instantiate optimizer\n",
        "    optimizer = optim.Adam(model.parameters(), weight_decay=wd)\n",
        "    loss_fn = nn.MSELoss()\n",
        "\n",
        "    # Instantiate training and validation functions\n",
        "    train_step_fn = make_training_fn(model, loss_fn, optimizer)\n",
        "    val_step_fn = make_val_fn(model, loss_fn)\n",
        "\n",
        "    for epoch in range(num_epochs):\n",
        "      mini_batch_loop(device, train_data_loader, train_step_fn)\n",
        "\n",
        "    val_loss = mini_batch_loop(device, test_data_loader, val_step_fn)\n",
        "    val_losses.append(val_loss)\n",
        "\n",
        "  with open(result_file, 'wb') as file:\n",
        "    pickle.dump(val_losses, file)\n",
        "\n",
        "print(np.argmin(val_losses))"
      ]
    },
    {
      "cell_type": "code",
      "execution_count": null,
      "metadata": {
        "id": "x8_--TPWiZbx"
      },
      "outputs": [],
      "source": [
        "# Data splitting\n",
        "for i in range(replications):\n",
        "  result_file = f'./drive/MyDrive/chosen_files/data_split_result_{i}.pkl'\n",
        "  if not os.path.exists(result_file):\n",
        "    print(f'Replication {i}')\n",
        "    chosen_val = []\n",
        "    losses = []\n",
        "    hyperparameter_combos = itertools.product(num_layers, hidden_size, weight_decay)\n",
        "    for nl, hs, wd in hyperparameter_combos:\n",
        "      val_loss = data_splitting(train_data, nl, train_data.X.shape[1], hs, output_size, wd, i, num_epochs)\n",
        "      losses.append(val_loss)\n",
        "    chosen_val.append(np.argmin(losses))\n",
        "\n",
        "    with open(result_file, 'wb') as file:\n",
        "        pickle.dump(chosen_val, file)"
      ]
    },
    {
      "cell_type": "code",
      "execution_count": null,
      "metadata": {
        "id": "oqhsJu74FtjF"
      },
      "outputs": [],
      "source": [
        "# Repeat Kfold CV\n",
        "for i in range(replications):\n",
        "  result_file = f'./drive/MyDrive/chosen_files/repeatcv_result_{i}.pkl'\n",
        "  if not os.path.exists(result_file):\n",
        "    print(f'Replication {i}')\n",
        "    chosen_val = []\n",
        "    losses = []\n",
        "    hyperparameter_combos = itertools.product(num_layers, hidden_size, weight_decay)\n",
        "    for nl, hs, wd in hyperparameter_combos:\n",
        "      val_loss = cross_validation(train_data, nl, train_data.X.shape[1], hs, output_size, wd, i, 5, 5, num_epochs)\n",
        "      losses.append(val_loss)\n",
        "    chosen_val.append(np.argmin(losses))\n",
        "\n",
        "    with open(result_file, 'wb') as file:\n",
        "        pickle.dump(chosen_val, file)"
      ]
    },
    {
      "cell_type": "code",
      "source": [
        "# Kfold CV\n",
        "for i in range(replications):\n",
        "  result_file = f'./drive/MyDrive/chosen_files/kfoldcv_result_{i}.pkl'\n",
        "  if not os.path.exists(result_file):\n",
        "    print(f'Replication {i}')\n",
        "    chosen_val = []\n",
        "    losses = []\n",
        "    hyperparameter_combos = itertools.product(num_layers, hidden_size, weight_decay)\n",
        "    for nl, hs, wd in hyperparameter_combos:\n",
        "      val_loss = cross_validation(train_data, nl, train_data.X.shape[1], hs, output_size, wd, i, 5, 1, num_epochs)\n",
        "      losses.append(val_loss)\n",
        "    chosen_val.append(np.argmin(losses))\n",
        "\n",
        "    with open(result_file, 'wb') as file:\n",
        "        pickle.dump(chosen_val, file)"
      ],
      "metadata": {
        "id": "iqQOmkqzEesz"
      },
      "execution_count": null,
      "outputs": []
    }
  ],
  "metadata": {
    "colab": {
      "provenance": []
    },
    "kernelspec": {
      "display_name": "Python 3",
      "name": "python3"
    },
    "language_info": {
      "name": "python"
    }
  },
  "nbformat": 4,
  "nbformat_minor": 0
}